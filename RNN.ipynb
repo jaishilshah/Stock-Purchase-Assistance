{
 "cells": [
  {
   "cell_type": "code",
   "execution_count": 59,
   "metadata": {},
   "outputs": [],
   "source": [
    "import numpy as np\n",
    "import pandas as pd\n",
    "import matplotlib.pyplot as plt"
   ]
  },
  {
   "cell_type": "code",
   "execution_count": 60,
   "metadata": {},
   "outputs": [],
   "source": [
    "#variables that change for different stocks and different window and duration\n",
    "stock = 'TATAMOTORS'\n",
    "window = 60 #How much previous data to use for each prediction\n",
    "duration = 15 #Closing price to be predicted after how many days from today"
   ]
  },
  {
   "cell_type": "code",
   "execution_count": 61,
   "metadata": {},
   "outputs": [],
   "source": [
    "df = pd.read_csv('C:\\\\Users\\\\nrkat\\\\Downloads\\\\archive\\\\Datasets\\\\SCRIP\\\\' + stock + '.csv')"
   ]
  },
  {
   "cell_type": "code",
   "execution_count": 62,
   "metadata": {},
   "outputs": [
    {
     "data": {
      "text/plain": [
       "(6350, 15)"
      ]
     },
     "execution_count": 62,
     "metadata": {},
     "output_type": "execute_result"
    }
   ],
   "source": [
    "df.shape"
   ]
  },
  {
   "cell_type": "code",
   "execution_count": 63,
   "metadata": {},
   "outputs": [
    {
     "data": {
      "text/html": [
       "<div>\n",
       "<style scoped>\n",
       "    .dataframe tbody tr th:only-of-type {\n",
       "        vertical-align: middle;\n",
       "    }\n",
       "\n",
       "    .dataframe tbody tr th {\n",
       "        vertical-align: top;\n",
       "    }\n",
       "\n",
       "    .dataframe thead th {\n",
       "        text-align: right;\n",
       "    }\n",
       "</style>\n",
       "<table border=\"1\" class=\"dataframe\">\n",
       "  <thead>\n",
       "    <tr style=\"text-align: right;\">\n",
       "      <th></th>\n",
       "      <th>Date</th>\n",
       "      <th>Symbol</th>\n",
       "      <th>Series</th>\n",
       "      <th>Prev Close</th>\n",
       "      <th>Open</th>\n",
       "      <th>High</th>\n",
       "      <th>Low</th>\n",
       "      <th>Last</th>\n",
       "      <th>Close</th>\n",
       "      <th>VWAP</th>\n",
       "      <th>Volume</th>\n",
       "      <th>Turnover</th>\n",
       "      <th>Trades</th>\n",
       "      <th>Deliverable Volume</th>\n",
       "      <th>%Deliverble</th>\n",
       "    </tr>\n",
       "  </thead>\n",
       "  <tbody>\n",
       "    <tr>\n",
       "      <th>0</th>\n",
       "      <td>1996-01-01</td>\n",
       "      <td>TELCO</td>\n",
       "      <td>EQ</td>\n",
       "      <td>379.80</td>\n",
       "      <td>378.00</td>\n",
       "      <td>380.0</td>\n",
       "      <td>377.50</td>\n",
       "      <td>NaN</td>\n",
       "      <td>380.00</td>\n",
       "      <td>378.94</td>\n",
       "      <td>7800</td>\n",
       "      <td>2.955715e+11</td>\n",
       "      <td>NaN</td>\n",
       "      <td>NaN</td>\n",
       "      <td>NaN</td>\n",
       "    </tr>\n",
       "    <tr>\n",
       "      <th>1</th>\n",
       "      <td>1996-01-02</td>\n",
       "      <td>TELCO</td>\n",
       "      <td>EQ</td>\n",
       "      <td>380.00</td>\n",
       "      <td>380.00</td>\n",
       "      <td>383.9</td>\n",
       "      <td>376.00</td>\n",
       "      <td>NaN</td>\n",
       "      <td>377.80</td>\n",
       "      <td>380.09</td>\n",
       "      <td>19350</td>\n",
       "      <td>7.354800e+11</td>\n",
       "      <td>NaN</td>\n",
       "      <td>NaN</td>\n",
       "      <td>NaN</td>\n",
       "    </tr>\n",
       "    <tr>\n",
       "      <th>2</th>\n",
       "      <td>1996-01-03</td>\n",
       "      <td>TELCO</td>\n",
       "      <td>EQ</td>\n",
       "      <td>377.80</td>\n",
       "      <td>377.80</td>\n",
       "      <td>380.0</td>\n",
       "      <td>376.25</td>\n",
       "      <td>NaN</td>\n",
       "      <td>376.55</td>\n",
       "      <td>378.43</td>\n",
       "      <td>5700</td>\n",
       "      <td>2.157065e+11</td>\n",
       "      <td>NaN</td>\n",
       "      <td>NaN</td>\n",
       "      <td>NaN</td>\n",
       "    </tr>\n",
       "    <tr>\n",
       "      <th>3</th>\n",
       "      <td>1996-01-04</td>\n",
       "      <td>TELCO</td>\n",
       "      <td>EQ</td>\n",
       "      <td>376.55</td>\n",
       "      <td>376.55</td>\n",
       "      <td>377.0</td>\n",
       "      <td>371.50</td>\n",
       "      <td>NaN</td>\n",
       "      <td>373.70</td>\n",
       "      <td>374.62</td>\n",
       "      <td>20100</td>\n",
       "      <td>7.529930e+11</td>\n",
       "      <td>NaN</td>\n",
       "      <td>NaN</td>\n",
       "      <td>NaN</td>\n",
       "    </tr>\n",
       "    <tr>\n",
       "      <th>4</th>\n",
       "      <td>1996-01-05</td>\n",
       "      <td>TELCO</td>\n",
       "      <td>EQ</td>\n",
       "      <td>373.70</td>\n",
       "      <td>373.70</td>\n",
       "      <td>374.8</td>\n",
       "      <td>371.00</td>\n",
       "      <td>NaN</td>\n",
       "      <td>372.35</td>\n",
       "      <td>372.60</td>\n",
       "      <td>12000</td>\n",
       "      <td>4.471250e+11</td>\n",
       "      <td>NaN</td>\n",
       "      <td>NaN</td>\n",
       "      <td>NaN</td>\n",
       "    </tr>\n",
       "  </tbody>\n",
       "</table>\n",
       "</div>"
      ],
      "text/plain": [
       "         Date Symbol Series  Prev Close    Open   High     Low  Last   Close  \\\n",
       "0  1996-01-01  TELCO     EQ      379.80  378.00  380.0  377.50   NaN  380.00   \n",
       "1  1996-01-02  TELCO     EQ      380.00  380.00  383.9  376.00   NaN  377.80   \n",
       "2  1996-01-03  TELCO     EQ      377.80  377.80  380.0  376.25   NaN  376.55   \n",
       "3  1996-01-04  TELCO     EQ      376.55  376.55  377.0  371.50   NaN  373.70   \n",
       "4  1996-01-05  TELCO     EQ      373.70  373.70  374.8  371.00   NaN  372.35   \n",
       "\n",
       "     VWAP  Volume      Turnover  Trades  Deliverable Volume  %Deliverble  \n",
       "0  378.94    7800  2.955715e+11     NaN                 NaN          NaN  \n",
       "1  380.09   19350  7.354800e+11     NaN                 NaN          NaN  \n",
       "2  378.43    5700  2.157065e+11     NaN                 NaN          NaN  \n",
       "3  374.62   20100  7.529930e+11     NaN                 NaN          NaN  \n",
       "4  372.60   12000  4.471250e+11     NaN                 NaN          NaN  "
      ]
     },
     "execution_count": 63,
     "metadata": {},
     "output_type": "execute_result"
    }
   ],
   "source": [
    "df.head()"
   ]
  },
  {
   "cell_type": "code",
   "execution_count": 64,
   "metadata": {},
   "outputs": [
    {
     "data": {
      "image/png": "[encoded data removed]",
      "text/plain": [
       "<Figure size 432x288 with 1 Axes>"
      ]
     },
     "metadata": {
      "needs_background": "light"
     },
     "output_type": "display_data"
    }
   ],
   "source": [
    "dates = pd.to_datetime(df['Date'])\n",
    "plt.plot_date(dates, df['Close'],fmt='-')\n",
    "plt.savefig(stock+ \".png\")"
   ]
  },
  {
   "cell_type": "code",
   "execution_count": 65,
   "metadata": {},
   "outputs": [
    {
     "name": "stdout",
     "output_type": "stream",
     "text": [
      "           i  i + 15\n",
      "0     380.00  380.05\n",
      "1     377.80  370.05\n",
      "2     376.55  358.80\n",
      "3     373.70  360.25\n",
      "4     372.35  361.90\n",
      "...      ...     ...\n",
      "6330  334.95  339.65\n",
      "6331  345.50  342.80\n",
      "6332  352.75  341.55\n",
      "6333  343.35  339.60\n",
      "6334  344.75  344.25\n",
      "\n",
      "[6335 rows x 2 columns]\n"
     ]
    }
   ],
   "source": [
    "close_price = df['Close']\n",
    "next_close = []\n",
    "for i in range(len(close_price) - duration):\n",
    "    next_close.append(close_price[i+duration])\n",
    "\n",
    "close_price = close_price[:len(df)-duration]\n",
    "print(pd.DataFrame({'i':close_price, 'i + '+ str(duration): next_close}))"
   ]
  },
  {
   "cell_type": "code",
   "execution_count": 66,
   "metadata": {},
   "outputs": [],
   "source": [
    "from sklearn.preprocessing import MinMaxScaler\n",
    "sc = MinMaxScaler()\n",
    "x_scaled = sc.fit_transform(pd.DataFrame(close_price))\n",
    "y_scaled = sc.fit_transform(pd.DataFrame(next_close))"
   ]
  },
  {
   "cell_type": "code",
   "execution_count": 67,
   "metadata": {},
   "outputs": [
    {
     "name": "stdout",
     "output_type": "stream",
     "text": [
      "(6275, 60, 1)\n",
      "(6275, 1)\n"
     ]
    }
   ],
   "source": [
    "x = []\n",
    "for i in range(window,len(close_price)):\n",
    "    x.append(x_scaled[i-window:i])\n",
    "    \n",
    "x = np.array(x)\n",
    "x = np.reshape(x,(x.shape[0],x.shape[1],1))\n",
    "y = y_scaled[window:]\n",
    "\n",
    "print(x.shape)\n",
    "print(y.shape)"
   ]
  },
  {
   "cell_type": "code",
   "execution_count": 68,
   "metadata": {},
   "outputs": [
    {
     "name": "stdout",
     "output_type": "stream",
     "text": [
      "Train size:  (5068, 1)\n",
      "Test size: (1207, 1)\n"
     ]
    }
   ],
   "source": [
    "index = int(len(close_price) * 0.8)\n",
    "x_train = x[:index]\n",
    "y_train = y[:index]\n",
    "\n",
    "x_test = x[index:]\n",
    "y_test = y[index:]\n",
    "print(\"Train size: \",y_train.shape)\n",
    "print(\"Test size:\",y_test.shape)"
   ]
  },
  {
   "cell_type": "code",
   "execution_count": 69,
   "metadata": {},
   "outputs": [],
   "source": [
    "from keras import Sequential\n",
    "from keras.layers import Dense\n",
    "from keras.layers import LSTM\n",
    "from keras.layers import Dropout"
   ]
  },
  {
   "cell_type": "code",
   "execution_count": 70,
   "metadata": {},
   "outputs": [
    {
     "name": "stdout",
     "output_type": "stream",
     "text": [
      "Epoch 1/20\n",
      "51/51 - 11s - loss: 0.0120 - 11s/epoch - 221ms/step\n",
      "Epoch 2/20\n",
      "51/51 - 5s - loss: 0.0051 - 5s/epoch - 106ms/step\n",
      "Epoch 3/20\n",
      "51/51 - 5s - loss: 0.0048 - 5s/epoch - 106ms/step\n",
      "Epoch 4/20\n",
      "51/51 - 5s - loss: 0.0045 - 5s/epoch - 106ms/step\n",
      "Epoch 5/20\n",
      "51/51 - 5s - loss: 0.0046 - 5s/epoch - 106ms/step\n",
      "Epoch 6/20\n",
      "51/51 - 5s - loss: 0.0041 - 5s/epoch - 105ms/step\n",
      "Epoch 7/20\n",
      "51/51 - 5s - loss: 0.0043 - 5s/epoch - 106ms/step\n",
      "Epoch 8/20\n",
      "51/51 - 5s - loss: 0.0040 - 5s/epoch - 106ms/step\n",
      "Epoch 9/20\n",
      "51/51 - 5s - loss: 0.0035 - 5s/epoch - 105ms/step\n",
      "Epoch 10/20\n",
      "51/51 - 5s - loss: 0.0038 - 5s/epoch - 105ms/step\n",
      "Epoch 11/20\n",
      "51/51 - 5s - loss: 0.0036 - 5s/epoch - 106ms/step\n",
      "Epoch 12/20\n",
      "51/51 - 5s - loss: 0.0035 - 5s/epoch - 108ms/step\n",
      "Epoch 13/20\n",
      "51/51 - 5s - loss: 0.0036 - 5s/epoch - 103ms/step\n",
      "Epoch 14/20\n",
      "51/51 - 5s - loss: 0.0036 - 5s/epoch - 97ms/step\n",
      "Epoch 15/20\n",
      "51/51 - 5s - loss: 0.0034 - 5s/epoch - 99ms/step\n",
      "Epoch 16/20\n",
      "51/51 - 5s - loss: 0.0032 - 5s/epoch - 98ms/step\n",
      "Epoch 17/20\n",
      "51/51 - 5s - loss: 0.0034 - 5s/epoch - 99ms/step\n",
      "Epoch 18/20\n",
      "51/51 - 5s - loss: 0.0032 - 5s/epoch - 101ms/step\n",
      "Epoch 19/20\n",
      "51/51 - 5s - loss: 0.0034 - 5s/epoch - 104ms/step\n",
      "Epoch 20/20\n",
      "51/51 - 5s - loss: 0.0032 - 5s/epoch - 104ms/step\n"
     ]
    },
    {
     "data": {
      "text/plain": [
       "<keras.callbacks.History at 0x1b9dbe67d30>"
      ]
     },
     "execution_count": 70,
     "metadata": {},
     "output_type": "execute_result"
    }
   ],
   "source": [
    "reg = Sequential()\n",
    "\n",
    "reg.add(LSTM(units = 60,return_sequences=True,input_shape=(x_train.shape[1],1)))\n",
    "reg.add(Dropout(0.2))\n",
    "\n",
    "reg.add(LSTM(units = 50,return_sequences=True))\n",
    "reg.add(Dropout(0.2))\n",
    "\n",
    "reg.add(LSTM(units = 50,return_sequences=True))\n",
    "reg.add(Dropout(0.2))\n",
    "\n",
    "reg.add(LSTM(units=50))\n",
    "reg.add(Dropout(0.2))\n",
    "\n",
    "reg.add(Dense(units=1))\n",
    "reg.compile(optimizer = 'adam',loss='mean_squared_error')\n",
    "reg.fit(x_train,y_train, epochs=20, batch_size =100,verbose=2)"
   ]
  },
  {
   "cell_type": "code",
   "execution_count": 71,
   "metadata": {},
   "outputs": [],
   "source": [
    "pred = reg.predict(x_test)\n",
    "pred = sc.inverse_transform(pred)\n",
    "y_test = sc.inverse_transform(y_test)"
   ]
  },
  {
   "cell_type": "code",
   "execution_count": 72,
   "metadata": {},
   "outputs": [
    {
     "data": {
      "image/png": "[encoded data removed]",
      "text/plain": [
       "<Figure size 432x288 with 1 Axes>"
      ]
     },
     "metadata": {
      "needs_background": "light"
     },
     "output_type": "display_data"
    }
   ],
   "source": [
    "plt.plot(y_test,color='green',label=\"Actual\")\n",
    "plt.plot(pred,color='red',label=\"Predicted\")\n",
    "plt.title('Price Movement Prediction')\n",
    "plt.legend()\n",
    "plt.savefig(stock + \" - 30 - performance.png\")"
   ]
  },
  {
   "cell_type": "code",
   "execution_count": 73,
   "metadata": {},
   "outputs": [
    {
     "data": {
      "text/plain": [
       "36.970956713444075"
      ]
     },
     "execution_count": 73,
     "metadata": {},
     "output_type": "execute_result"
    }
   ],
   "source": [
    "rms = np.sqrt(np.mean(np.power((y_test-pred),2)))\n",
    "rms"
   ]
  },
  {
   "cell_type": "code",
   "execution_count": 74,
   "metadata": {},
   "outputs": [],
   "source": [
    "true_trend = []\n",
    "pred_trend = []\n",
    "\n",
    "for i in range(len(y_test)):\n",
    "    today = close_price[window + index + i]\n",
    "    if today > y_test[i]:\n",
    "        true_trend.append(0)\n",
    "    else:\n",
    "        true_trend.append(1)\n",
    "        \n",
    "    if today > pred[i]:\n",
    "        pred_trend.append(0)\n",
    "    else:\n",
    "        pred_trend.append(1)\n",
    "matrix = pd.DataFrame({'Actual': true_trend, 'Pred': pred_trend})"
   ]
  },
  {
   "cell_type": "code",
   "execution_count": 77,
   "metadata": {},
   "outputs": [
    {
     "data": {
      "text/plain": [
       "0.6333333333333333"
      ]
     },
     "execution_count": 77,
     "metadata": {},
     "output_type": "execute_result"
    }
   ],
   "source": [
    "from sklearn.metrics import accuracy_score\n",
    "acc = accuracy_score(true_trend[:60], pred_trend[:60])\n",
    "acc"
   ]
  }
 ],
 "metadata": {
  "kernelspec": {
   "display_name": "Python 3 (ipykernel)",
   "language": "python",
   "name": "python3"
  },
  "language_info": {
   "codemirror_mode": {
    "name": "ipython",
    "version": 3
   },
   "file_extension": ".py",
   "mimetype": "text/x-python",
   "name": "python",
   "nbconvert_exporter": "python",
   "pygments_lexer": "ipython3",
   "version": "3.9.7"
  }
 },
 "nbformat": 4,
 "nbformat_minor": 2
}
